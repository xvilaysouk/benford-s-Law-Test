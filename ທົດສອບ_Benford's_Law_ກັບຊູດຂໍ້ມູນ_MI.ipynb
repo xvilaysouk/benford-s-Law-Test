{
  "nbformat": 4,
  "nbformat_minor": 0,
  "metadata": {
    "colab": {
      "name": "ທົດສອບ Benford's Law ກັບຊູດຂໍ້ມູນ MI",
      "provenance": [],
      "authorship_tag": "ABX9TyOAhfBpVEFBIQPhG+tYByNF",
      "include_colab_link": true
    },
    "kernelspec": {
      "name": "python3",
      "display_name": "Python 3"
    }
  },
  "cells": [
    {
      "cell_type": "markdown",
      "metadata": {
        "id": "view-in-github",
        "colab_type": "text"
      },
      "source": [
        "<a href=\"https://colab.research.google.com/github/xvilaysouk/benford-s-Law-Test/blob/main/%E0%BA%97%E0%BA%BB%E0%BA%94%E0%BA%AA%E0%BA%AD%E0%BA%9A_Benford's_Law_%E0%BA%81%E0%BA%B1%E0%BA%9A%E0%BA%8A%E0%BA%B9%E0%BA%94%E0%BA%82%E0%BB%8D%E0%BB%89%E0%BA%A1%E0%BA%B9%E0%BA%99_MI.ipynb\" target=\"_parent\"><img src=\"https://colab.research.google.com/assets/colab-badge.svg\" alt=\"Open In Colab\"/></a>"
      ]
    },
    {
      "cell_type": "markdown",
      "metadata": {
        "id": "axPolEq8H0lU"
      },
      "source": [
        "# **ທົດສອບ Benford's Law ກັບຊູດຂໍ້ມູນ MI**"
      ]
    },
    {
      "cell_type": "code",
      "metadata": {
        "id": "8mElYkt56Ndb"
      },
      "source": [
        "import pandas as pd\r\n",
        "import numpy as np\r\n",
        "import matplotlib.pyplot as plt\r\n",
        "import math\r\n"
      ],
      "execution_count": null,
      "outputs": []
    },
    {
      "cell_type": "markdown",
      "metadata": {
        "id": "DpLuOBkoII0D"
      },
      "source": [
        "ໂຫຼດເຊັດຂໍ້ມູນທີ່ໃຊ້ທົດສອບ Benford's Law"
      ]
    },
    {
      "cell_type": "code",
      "metadata": {
        "colab": {
          "base_uri": "https://localhost:8080/"
        },
        "id": "RY0XJvUW7Pb3",
        "outputId": "08696061-b1f1-430a-a6b8-4fa49d1a02a9"
      },
      "source": [
        "url = \"https://raw.githubusercontent.com/xvilaysouk/benford-s-Law-Test/main/benford's%20law%20test%20dataset.csv\"\r\n",
        "df = pd.read_csv(url,index_col=0)\r\n",
        "#df = pd.read_csv(url)\r\n",
        "\r\n",
        "print(df.head(5))"
      ],
      "execution_count": null,
      "outputs": [
        {
          "output_type": "stream",
          "text": [
            "           Leading digits\n",
            "MI data                  \n",
            "3.414460              3.0\n",
            "8.300614              8.0\n",
            "15.273336             1.0\n",
            "11.111311             1.0\n",
            "11.292124             1.0\n"
          ],
          "name": "stdout"
        }
      ]
    },
    {
      "cell_type": "code",
      "metadata": {
        "colab": {
          "base_uri": "https://localhost:8080/"
        },
        "id": "lNVguY7C8YTU",
        "outputId": "9eae0595-1ec8-42e0-b2cb-a109d6d25aba"
      },
      "source": [
        "def cal_benford (x):\r\n",
        "  y = math.log10 (x+1)-math.log10(x)\r\n",
        "  return y\r\n",
        "benford = []\r\n",
        "for i in range(1,10) :\r\n",
        "  sim = (cal_benford(i))\r\n",
        "  benford.append(sim)\r\n",
        "\r\n",
        "print (benford)\r\n"
      ],
      "execution_count": null,
      "outputs": [
        {
          "output_type": "stream",
          "text": [
            "[0.3010299956639812, 0.17609125905568124, 0.12493873660829996, 0.09691001300805646, 0.07918124604762478, 0.06694678963061318, 0.057991946977686726, 0.05115252244738133, 0.04575749056067513]\n"
          ],
          "name": "stdout"
        }
      ]
    },
    {
      "cell_type": "code",
      "metadata": {
        "colab": {
          "base_uri": "https://localhost:8080/",
          "height": 328
        },
        "id": "_NArAbSCCd6v",
        "outputId": "013ebe2c-6e20-4772-d69d-740c5c57f679"
      },
      "source": [
        "df_plot = pd.DataFrame()\r\n",
        "\r\n",
        "df_plot['Data'] = df['Leading digits'].value_counts()/df['Leading digits'].value_counts().sum()\r\n",
        "df_plot['ben'] = benford\r\n",
        "\r\n",
        "df_plot"
      ],
      "execution_count": null,
      "outputs": [
        {
          "output_type": "execute_result",
          "data": {
            "text/html": [
              "<div>\n",
              "<style scoped>\n",
              "    .dataframe tbody tr th:only-of-type {\n",
              "        vertical-align: middle;\n",
              "    }\n",
              "\n",
              "    .dataframe tbody tr th {\n",
              "        vertical-align: top;\n",
              "    }\n",
              "\n",
              "    .dataframe thead th {\n",
              "        text-align: right;\n",
              "    }\n",
              "</style>\n",
              "<table border=\"1\" class=\"dataframe\">\n",
              "  <thead>\n",
              "    <tr style=\"text-align: right;\">\n",
              "      <th></th>\n",
              "      <th>Data</th>\n",
              "      <th>ben</th>\n",
              "    </tr>\n",
              "  </thead>\n",
              "  <tbody>\n",
              "    <tr>\n",
              "      <th>1.0</th>\n",
              "      <td>0.333333</td>\n",
              "      <td>0.301030</td>\n",
              "    </tr>\n",
              "    <tr>\n",
              "      <th>2.0</th>\n",
              "      <td>0.159722</td>\n",
              "      <td>0.176091</td>\n",
              "    </tr>\n",
              "    <tr>\n",
              "      <th>4.0</th>\n",
              "      <td>0.104167</td>\n",
              "      <td>0.124939</td>\n",
              "    </tr>\n",
              "    <tr>\n",
              "      <th>3.0</th>\n",
              "      <td>0.104167</td>\n",
              "      <td>0.096910</td>\n",
              "    </tr>\n",
              "    <tr>\n",
              "      <th>6.0</th>\n",
              "      <td>0.083333</td>\n",
              "      <td>0.079181</td>\n",
              "    </tr>\n",
              "    <tr>\n",
              "      <th>7.0</th>\n",
              "      <td>0.083333</td>\n",
              "      <td>0.066947</td>\n",
              "    </tr>\n",
              "    <tr>\n",
              "      <th>5.0</th>\n",
              "      <td>0.055556</td>\n",
              "      <td>0.057992</td>\n",
              "    </tr>\n",
              "    <tr>\n",
              "      <th>8.0</th>\n",
              "      <td>0.041667</td>\n",
              "      <td>0.051153</td>\n",
              "    </tr>\n",
              "    <tr>\n",
              "      <th>9.0</th>\n",
              "      <td>0.034722</td>\n",
              "      <td>0.045757</td>\n",
              "    </tr>\n",
              "  </tbody>\n",
              "</table>\n",
              "</div>"
            ],
            "text/plain": [
              "         Data       ben\n",
              "1.0  0.333333  0.301030\n",
              "2.0  0.159722  0.176091\n",
              "4.0  0.104167  0.124939\n",
              "3.0  0.104167  0.096910\n",
              "6.0  0.083333  0.079181\n",
              "7.0  0.083333  0.066947\n",
              "5.0  0.055556  0.057992\n",
              "8.0  0.041667  0.051153\n",
              "9.0  0.034722  0.045757"
            ]
          },
          "metadata": {
            "tags": []
          },
          "execution_count": 94
        }
      ]
    },
    {
      "cell_type": "code",
      "metadata": {
        "colab": {
          "base_uri": "https://localhost:8080/",
          "height": 297
        },
        "id": "ioXEFNpWGKTd",
        "outputId": "4203f324-6f25-4fee-da6f-7d6d88dd225a"
      },
      "source": [
        "x = np.arange(len(df_plot))  # the label locations\r\n",
        "width = 0.35  # the width of the bars\r\n",
        "\r\n",
        "fig, ax = plt.subplots()\r\n",
        "rects1 = ax.bar(x - width/2, df_plot['Data'], width, label='MI Data')\r\n",
        "rects2 = ax.bar(x + width/2, df_plot['ben'], width, label=\"Benford's Law\")\r\n",
        "\r\n",
        "ax.set_ylabel('ການແຈກຢາຍຂອງຂໍ້ມູນ')\r\n",
        "ax.set_ylabel('ໂຕເລກນຳຫນ້າ')\r\n",
        "ax.set_title('ປຽບທຽບການແຈກຢາຍຂອງຂໍ້ມູນຂອງ MI Data ກັບ Benford')\r\n",
        "ax.set_xticks(x)\r\n",
        "\r\n",
        "ax.legend()\r\n",
        "\r\n",
        "\r\n",
        "fig.tight_layout()\r\n",
        "\r\n",
        "plt.show()"
      ],
      "execution_count": null,
      "outputs": [
        {
          "output_type": "display_data",
          "data": {
            "image/png": "[encoded data removed]",
            "text/plain": [
              "<Figure size 432x288 with 1 Axes>"
            ]
          },
          "metadata": {
            "tags": [],
            "needs_background": "light"
          }
        }
      ]
    }
  ]
}